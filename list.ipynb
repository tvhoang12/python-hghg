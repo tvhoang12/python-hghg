{
 "cells": [
  {
   "cell_type": "code",
   "execution_count": 10,
   "metadata": {},
   "outputs": [
    {
     "name": "stdout",
     "output_type": "stream",
     "text": [
      "['apple', 'banana', 'cherry', 'orange']\n",
      "['apple', 'watermelon', 'banana', 'cherry', 'orange']\n",
      "['apple', 'watermelon', 'cherry', 'orange']\n",
      "['apple', 'watermelon', 'cherry']\n",
      "['watermelon', 'cherry']\n"
     ]
    }
   ],
   "source": [
    "thislist = ['apple', 'banana', 'cherry']\n",
    "thislist.append('orange')\n",
    "print(thislist)\n",
    "#append() thêm vào cuối list\n",
    "#insert(pos, value) thêm vào pos\n",
    "thislist.insert(1, 'watermelon')\n",
    "print(thislist)\n",
    "#remove() xóa phần tử\n",
    "thislist.remove('banana')\n",
    "print(thislist)\n",
    "#pop() xóa phần tử cuối\n",
    "thislist.pop()\n",
    "print(thislist)\n",
    "#del xóa phần tử\n",
    "del thislist[0]\n",
    "print(thislist)\n",
    "#del 'list' = list.clear()"
   ]
  },
  {
   "cell_type": "code",
   "execution_count": 12,
   "metadata": {},
   "outputs": [
    {
     "name": "stdout",
     "output_type": "stream",
     "text": [
      "[50, 65, 23, 82, 100]\n",
      "['cam', 'chuoi', 'Tao']\n"
     ]
    }
   ],
   "source": [
    "#newlist = [expression for item in iterable if condition == True]\n",
    "#sort() sắp xếp\n",
    "def myfunc(n):\n",
    "  return abs(n - 50)\n",
    "\n",
    "thislist = [100, 50, 65, 82, 23]\n",
    "thislist.sort(key = myfunc)\n",
    "print(thislist)\n",
    "\n",
    "secondlist = [\"chuoi\", \"Tao\", \"cam\"]\n",
    "secondlist.sort(key = str.lower)\n",
    "print(secondlist)"
   ]
  },
  {
   "cell_type": "code",
   "execution_count": 4,
   "metadata": {},
   "outputs": [
    {
     "name": "stdout",
     "output_type": "stream",
     "text": [
      "1\n",
      "2\n",
      "bro\n",
      "21\n",
      "male\n",
      "yes\n",
      "3\n"
     ]
    }
   ],
   "source": [
    "#2D list giống với 2D array trong C++\n",
    "#tuple là list không thể thay đổi, cú pháp khác list\n",
    "\n",
    "student = (\"bro\", 21, \"male\")\n",
    "\n",
    "print(student.count(\"bro\"))\n",
    "print(student.index(\"male\"))\n",
    "\n",
    "for x in student:\n",
    "    print(x)\n",
    "\n",
    "if \"bro\" in student:\n",
    "    print(\"yes\")\n",
    "else:\n",
    "    print(\"no\")\n",
    "    \n",
    "print(len(student))"
   ]
  },
  {
   "cell_type": "code",
   "execution_count": 16,
   "metadata": {},
   "outputs": [
    {
     "name": "stdout",
     "output_type": "stream",
     "text": [
      "napkin\n",
      "knife\n",
      "fork\n",
      "spoon\n",
      "\n",
      "bowl\n",
      "plate\n",
      "spoon\n",
      "fork\n",
      "knife\n",
      "cup\n",
      "napkin\n",
      "bowl\n",
      "plate\n",
      "spoon\n",
      "fork\n",
      "knife\n",
      "cup\n",
      "napkin\n",
      "{'napkin', 'fork', 'spoon'}\n",
      "{'bowl', 'knife', 'plate', 'cup'}\n"
     ]
    }
   ],
   "source": [
    "#set là list không có thứ tự, không thể truy cập bằng index, không thể thay đổi\n",
    "#set giống với set ở C++ nhưng không tự sắp xếp\n",
    "#add() thêm phần tử\n",
    "#update() thêm nhiều phần tử\n",
    "#remove() xóa phần tử\n",
    "#discard() xóa phần tử\n",
    "#pop() xóa phần tử cuối\n",
    "#clear() xóa hết phần tử\n",
    "\n",
    "utensils = {\"fork\", \"spoon\", \"knife\"}\n",
    "dishes = {\"bowl\", \"plate\", \"cup\", \"knife\"}\n",
    "\n",
    "utensils.add(\"napkin\")\n",
    "\n",
    "for x in utensils:\n",
    "    print(x)\n",
    "\n",
    "print()\n",
    "\n",
    "utensils.update(dishes)\n",
    "\n",
    "for x in utensils:\n",
    "    print(x)\n",
    "    \n",
    "dinner_table = utensils.union(dishes)\n",
    "\n",
    "for x in utensils:\n",
    "        print(x)\n",
    "print(utensils.difference(dishes))#trả về phần tử khác nhau\n",
    "print(utensils.intersection(dishes))#trả về phần tử giống nhau"
   ]
  },
  {
   "cell_type": "code",
   "execution_count": 19,
   "metadata": {},
   "outputs": [
    {
     "name": "stdout",
     "output_type": "stream",
     "text": [
      "Washington DC\n",
      "None\n",
      "dict_keys(['USA', 'India', 'China', 'Russia'])\n",
      "dict_values(['Washington DC', 'New Delhi', 'Beijing', 'Moscow'])\n",
      "{'USA': 'Washington DC', 'India': 'New Delhi', 'China': 'Beijing', 'Russia': 'Moscow', 'Germany': 'Berlin'}\n",
      "dict_items([('USA', 'Washington DC'), ('India', 'New Delhi'), ('China', 'Beijing'), ('Russia', 'Moscow'), ('Germany', 'Berlin')])\n"
     ]
    }
   ],
   "source": [
    "#dictionary a changeable, unordered collection of unique key:value pairs\n",
    "#giống với map trong C++\n",
    "\n",
    "capitals = {'USA':'Washington DC', 'India':'New Delhi', 'China':'Beijing', 'Russia':'Moscow'}\n",
    "\n",
    "print(capitals['USA'])#truy cập value bằng key\n",
    "print(capitals.get('Germany'))#get(key) trả về value của key\n",
    "print(capitals.keys())#key() trả về list các key\n",
    "print(capitals.values())#values() trả về list các value\n",
    "\n",
    "capitals.update({'Germany':'Berlin'})#update(key:value)\n",
    "\n",
    "print(capitals)\n",
    "\n",
    "print(capitals.items())#items() trả về list các tuple(key, value)\n",
    "\n",
    "capitals.pop('China')#pop(key)\n",
    "capitals.clear()#clear()\n",
    "\n"
   ]
  }
 ],
 "metadata": {
  "kernelspec": {
   "display_name": "Python 3",
   "language": "python",
   "name": "python3"
  },
  "language_info": {
   "codemirror_mode": {
    "name": "ipython",
    "version": 3
   },
   "file_extension": ".py",
   "mimetype": "text/x-python",
   "name": "python",
   "nbconvert_exporter": "python",
   "pygments_lexer": "ipython3",
   "version": "3.12.0"
  }
 },
 "nbformat": 4,
 "nbformat_minor": 2
}
