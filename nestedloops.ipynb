{
 "cells": [
  {
   "cell_type": "code",
   "execution_count": 4,
   "metadata": {},
   "outputs": [
    {
     "name": "stdout",
     "output_type": "stream",
     "text": [
      "55\n"
     ]
    }
   ],
   "source": [
    "#index operator [] - gives access to a sequence's element (str, list, tuple)\n",
    "\n",
    "#*args là list và tuple\n",
    "def add(*stuff):\n",
    "    sum = 0;\n",
    "    stuff = list(stuff)\n",
    "    stuff[0] = 10\n",
    "    for x in stuff:\n",
    "        sum += x\n",
    "    return sum\n",
    "\n",
    "print(add(5, 10, 15, 20))"
   ]
  },
  {
   "cell_type": "code",
   "execution_count": 6,
   "metadata": {},
   "outputs": [
    {
     "name": "stdout",
     "output_type": "stream",
     "text": [
      "Hello name John age 20 country USA "
     ]
    }
   ],
   "source": [
    "#**kwargs là dictionary\n",
    "def hello(**name):\n",
    "    print(\"Hello\", end = \" \")\n",
    "    for key, value in name.items():\n",
    "        print(key, value,end = \" \")\n",
    "        \n",
    "hello(name = \"John\", age = 20, country = \"USA\")"
   ]
  },
  {
   "cell_type": "code",
   "execution_count": 16,
   "metadata": {},
   "outputs": [
    {
     "name": "stdout",
     "output_type": "stream",
     "text": [
      "You lose!\n",
      "['A', 'K', 8, 10, 2, 4, 7, 'J', 9, 'Q', 3, 6, 1, 5]\n"
     ]
    }
   ],
   "source": [
    "import random\n",
    "\n",
    "# x = random.randint(1,100)\n",
    "# y = random.random()# 0 <= y < 1\n",
    "\n",
    "player = str(input(\"Enter rock, paper, or scissors: \"))\n",
    "\n",
    "my_list = [\"rock\", \"paper\", \"scissors\"]\n",
    "z = random.choice(my_list)\n",
    "\n",
    "if(player == \"rock\" and z == \"scissors\"):\n",
    "    print(\"You win!\")\n",
    "elif(player == \"paper\" and z == \"rock\"):\n",
    "    print(\"You win!\")\n",
    "elif(player == \"scissors\" and z == \"paper\"):\n",
    "    print(\"You win!\")\n",
    "elif(player == \"rock\" and z == \"paper\"):\n",
    "    print(\"You lose!\")\n",
    "elif(player == \"paper\" and z == \"scissors\"):\n",
    "    print(\"You lose!\")\n",
    "elif(player == \"scissors\" and z == \"rock\"):\n",
    "    print(\"You lose!\")\n",
    "elif(player == z):\n",
    "    print(\"Draw!\")\n",
    "\n",
    "# print(z)\n",
    "\n",
    "cards = [1,2,3,4,5,6,7,8,9,10,'J','Q','K','A']\n",
    "\n",
    "random.shuffle(cards)#shuffle the list\n",
    "\n",
    "print(cards)\n"
   ]
  }
 ],
 "metadata": {
  "kernelspec": {
   "display_name": "Python 3",
   "language": "python",
   "name": "python3"
  },
  "language_info": {
   "codemirror_mode": {
    "name": "ipython",
    "version": 3
   },
   "file_extension": ".py",
   "mimetype": "text/x-python",
   "name": "python",
   "nbconvert_exporter": "python",
   "pygments_lexer": "ipython3",
   "version": "3.12.0"
  }
 },
 "nbformat": 4,
 "nbformat_minor": 2
}
