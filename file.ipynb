{
 "cells": [
  {
   "cell_type": "code",
   "execution_count": 3,
   "metadata": {},
   "outputs": [
    {
     "name": "stdout",
     "output_type": "stream",
     "text": [
      "true\n",
      "no\n"
     ]
    }
   ],
   "source": [
    "import os\n",
    "\n",
    "path = \"D:\\\\sourceCode\\\\Python\\\\pythonbasic\\\\test.txt\"\n",
    "\n",
    "if os.path.exists(path):\n",
    "    print(\"true\")\n",
    "    if os.path.isdir(path):\n",
    "        print(\"dir\")\n",
    "    else:\n",
    "        print(\"no\")\n",
    "else:\n",
    "    print(\"false\")"
   ]
  },
  {
   "cell_type": "code",
   "execution_count": 19,
   "metadata": {},
   "outputs": [
    {
     "name": "stdout",
     "output_type": "stream",
     "text": [
      "41\n",
      "i'm so tired\n",
      " mother fucking all the timei'm so tired\n",
      " mother fucking all the timei'm so tired\n",
      " mother fucking all the timei'm so tired\n",
      " mother fucking all the timei'm so tired\n",
      " mother fucking all the timei'm so tired\n",
      " mother fucking all the timei'm so tired\n",
      " mother fucking all the timei'm so tired\n",
      " mother fucking all the timei'm so tired\n",
      " mother fucking all the timei'm so tired\n",
      " mother fucking all the time\n"
     ]
    }
   ],
   "source": [
    "#read file\n",
    "# try:\n",
    "#     with open('D:\\\\sourceCode\\\\Python\\\\pythonbasic\\\\test.txt') as file:\n",
    "#         print(file.read())\n",
    "# except FileNotFoundError:\n",
    "#     print(\"File not found :(\")\n",
    "\n",
    "text = \"i'm so tired\\n mother fucking all the time\"\n",
    "\n",
    "with open('D:\\\\sourceCode\\\\Python\\\\pythonbasic\\\\test.txt', 'a') as file:\n",
    "    print(file.write(text))\n",
    "    \n",
    "with open('D:\\\\sourceCode\\\\Python\\\\pythonbasic\\\\test.txt') as file:\n",
    "    print(file.read())"
   ]
  },
  {
   "cell_type": "code",
   "execution_count": 23,
   "metadata": {},
   "outputs": [
    {
     "data": {
      "text/plain": [
       "'copy.txt'"
      ]
     },
     "execution_count": 23,
     "metadata": {},
     "output_type": "execute_result"
    }
   ],
   "source": [
    "import shutil\n",
    "\n",
    "shutil.copy('test.txt', 'copy.txt')#src, dst"
   ]
  },
  {
   "cell_type": "code",
   "execution_count": 29,
   "metadata": {},
   "outputs": [
    {
     "name": "stdout",
     "output_type": "stream",
     "text": [
      "deleted\n"
     ]
    }
   ],
   "source": [
    "import os\n",
    "import shutil\n",
    "\n",
    "path = 'folder'\n",
    "\n",
    "try:\n",
    "    # os.remove('notnow.txt') delete file\n",
    "    os.rmdir(path)  #delete destination\n",
    "    # shutil.rmtree(path) #delete destnation n all file in it\n",
    "except FileNotFoundError:\n",
    "    print(\"that file wasn't found\")\n",
    "except PermissionError:\n",
    "    print(\"you not have permission to deleted\")\n",
    "except OSError:\n",
    "    print(\"u can't delete that function\")\n",
    "else:\n",
    "    print(\"deleted\")"
   ]
  },
  {
   "cell_type": "code",
   "execution_count": 31,
   "metadata": {},
   "outputs": [
    {
     "name": "stdout",
     "output_type": "stream",
     "text": [
      "Hello, world!\n"
     ]
    }
   ],
   "source": [
    "import module as md\n",
    "\n",
    "md.hello()"
   ]
  }
 ],
 "metadata": {
  "kernelspec": {
   "display_name": "Python 3",
   "language": "python",
   "name": "python3"
  },
  "language_info": {
   "codemirror_mode": {
    "name": "ipython",
    "version": 3
   },
   "file_extension": ".py",
   "mimetype": "text/x-python",
   "name": "python",
   "nbconvert_exporter": "python",
   "pygments_lexer": "ipython3",
   "version": "3.12.0"
  }
 },
 "nbformat": 4,
 "nbformat_minor": 2
}
